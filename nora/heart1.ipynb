{
 "cells": [
  {
   "cell_type": "code",
   "execution_count": 131,
   "metadata": {
    "collapsed": true
   },
   "outputs": [],
   "source": [
    "%matplotlib inline\n",
    "from __future__ import division\n",
    "import numpy as np\n",
    "import matplotlib.pyplot as plt\n",
    "import pandas as pd\n",
    "from sklearn.ensemble import ExtraTreesClassifier"
   ]
  },
  {
   "cell_type": "markdown",
   "metadata": {},
   "source": [
    "# Load Data"
   ]
  },
  {
   "cell_type": "code",
   "execution_count": 111,
   "metadata": {
    "collapsed": true
   },
   "outputs": [],
   "source": [
    "data_dir = '/Users/nora/Box/dssg/DrivenData/Heart/data/'"
   ]
  },
  {
   "cell_type": "code",
   "execution_count": 112,
   "metadata": {
    "collapsed": true
   },
   "outputs": [],
   "source": [
    "test = pd.read_csv(data_dir + 'test_values.csv')\n",
    "train = pd.read_csv(data_dir + 'train_values.csv')\n",
    "labels = pd.read_csv(data_dir + 'train_labels.csv')"
   ]
  },
  {
   "cell_type": "code",
   "execution_count": 119,
   "metadata": {
    "collapsed": true
   },
   "outputs": [],
   "source": [
    "npatients = len(train)"
   ]
  },
  {
   "cell_type": "markdown",
   "metadata": {},
   "source": [
    "# Prepare Data"
   ]
  },
  {
   "cell_type": "code",
   "execution_count": 113,
   "metadata": {},
   "outputs": [],
   "source": [
    "def convert_columns(df, cols=[]):\n",
    "    for col in cols:\n",
    "        df[col] = df[col].astype(str)\n",
    "    return df\n",
    "        \n",
    "def standardize(df, numeric_only=True):\n",
    "    numeric = df.select_dtypes(include=['int64', 'float64'])\n",
    "    \n",
    "    # subtracy mean and divide by std\n",
    "    df[numeric.columns] = (numeric - numeric.mean()) / numeric.std()\n",
    "    \n",
    "    return df\n",
    "\n",
    "def pre_process_data(df, enforce_cols=None):\n",
    "    print(\"Input shape:\\t{}\".format(df.shape))\n",
    "        \n",
    "\n",
    "    df = standardize(df)\n",
    "    print(\"After standardization {}\".format(df.shape))\n",
    "        \n",
    "    # create dummy variables for categoricals\n",
    "    df = pd.get_dummies(df)\n",
    "    print(\"After converting categoricals:\\t{}\".format(df.shape))\n",
    "    \n",
    "\n",
    "    # match test set and training set columns\n",
    "    if enforce_cols is not None:\n",
    "        to_drop = np.setdiff1d(df.columns, enforce_cols)\n",
    "        to_add = np.setdiff1d(enforce_cols, df.columns)\n",
    "\n",
    "        df.drop(to_drop, axis=1, inplace=True)\n",
    "        df = df.assign(**{c: 0 for c in to_add})\n",
    "    \n",
    "    df.fillna(0, inplace=True)\n",
    "    \n",
    "    return df"
   ]
  },
  {
   "cell_type": "markdown",
   "metadata": {},
   "source": [
    "## Prepare Train"
   ]
  },
  {
   "cell_type": "code",
   "execution_count": 114,
   "metadata": {
    "scrolled": false
   },
   "outputs": [
    {
     "name": "stdout",
     "output_type": "stream",
     "text": [
      "Input shape:\t(180, 13)\n",
      "After standardization (180, 13)\n",
      "After converting categoricals:\t(180, 20)\n"
     ]
    }
   ],
   "source": [
    "train = train.drop('patient_id', axis=1)\n",
    "train = convert_columns(train, cols=['chest_pain_type', 'resting_ekg_results'])\n",
    "train = pre_process_data(train)"
   ]
  },
  {
   "cell_type": "code",
   "execution_count": 115,
   "metadata": {},
   "outputs": [
    {
     "data": {
      "text/html": [
       "<div>\n",
       "<table border=\"1\" class=\"dataframe\">\n",
       "  <thead>\n",
       "    <tr style=\"text-align: right;\">\n",
       "      <th></th>\n",
       "      <th>slope_of_peak_exercise_st_segment</th>\n",
       "      <th>resting_blood_pressure</th>\n",
       "      <th>num_major_vessels</th>\n",
       "      <th>fasting_blood_sugar_gt_120_mg_per_dl</th>\n",
       "      <th>serum_cholesterol_mg_per_dl</th>\n",
       "      <th>oldpeak_eq_st_depression</th>\n",
       "      <th>sex</th>\n",
       "      <th>age</th>\n",
       "      <th>max_heart_rate_achieved</th>\n",
       "      <th>exercise_induced_angina</th>\n",
       "      <th>thal_fixed_defect</th>\n",
       "      <th>thal_normal</th>\n",
       "      <th>thal_reversible_defect</th>\n",
       "      <th>chest_pain_type_1</th>\n",
       "      <th>chest_pain_type_2</th>\n",
       "      <th>chest_pain_type_3</th>\n",
       "      <th>chest_pain_type_4</th>\n",
       "      <th>resting_ekg_results_0</th>\n",
       "      <th>resting_ekg_results_1</th>\n",
       "      <th>resting_ekg_results_2</th>\n",
       "    </tr>\n",
       "  </thead>\n",
       "  <tbody>\n",
       "    <tr>\n",
       "      <th>0</th>\n",
       "      <td>-0.888762</td>\n",
       "      <td>-0.194652</td>\n",
       "      <td>-0.716404</td>\n",
       "      <td>-0.437019</td>\n",
       "      <td>1.115158</td>\n",
       "      <td>-0.900694</td>\n",
       "      <td>0.670152</td>\n",
       "      <td>-1.051032</td>\n",
       "      <td>0.929891</td>\n",
       "      <td>-0.678852</td>\n",
       "      <td>0.0</td>\n",
       "      <td>1.0</td>\n",
       "      <td>0.0</td>\n",
       "      <td>0.0</td>\n",
       "      <td>1.0</td>\n",
       "      <td>0.0</td>\n",
       "      <td>0.0</td>\n",
       "      <td>0.0</td>\n",
       "      <td>0.0</td>\n",
       "      <td>1.0</td>\n",
       "    </tr>\n",
       "    <tr>\n",
       "      <th>1</th>\n",
       "      <td>0.727169</td>\n",
       "      <td>-1.252825</td>\n",
       "      <td>-0.716404</td>\n",
       "      <td>-0.437019</td>\n",
       "      <td>-0.667915</td>\n",
       "      <td>0.526148</td>\n",
       "      <td>-1.483908</td>\n",
       "      <td>-0.086892</td>\n",
       "      <td>0.386007</td>\n",
       "      <td>-0.678852</td>\n",
       "      <td>0.0</td>\n",
       "      <td>1.0</td>\n",
       "      <td>0.0</td>\n",
       "      <td>0.0</td>\n",
       "      <td>0.0</td>\n",
       "      <td>1.0</td>\n",
       "      <td>0.0</td>\n",
       "      <td>1.0</td>\n",
       "      <td>0.0</td>\n",
       "      <td>0.0</td>\n",
       "    </tr>\n",
       "    <tr>\n",
       "      <th>2</th>\n",
       "      <td>-0.888762</td>\n",
       "      <td>-0.371014</td>\n",
       "      <td>2.378462</td>\n",
       "      <td>-0.437019</td>\n",
       "      <td>1.039283</td>\n",
       "      <td>-0.900694</td>\n",
       "      <td>0.670152</td>\n",
       "      <td>2.377024</td>\n",
       "      <td>0.567302</td>\n",
       "      <td>1.464891</td>\n",
       "      <td>0.0</td>\n",
       "      <td>1.0</td>\n",
       "      <td>0.0</td>\n",
       "      <td>0.0</td>\n",
       "      <td>0.0</td>\n",
       "      <td>0.0</td>\n",
       "      <td>1.0</td>\n",
       "      <td>0.0</td>\n",
       "      <td>0.0</td>\n",
       "      <td>1.0</td>\n",
       "    </tr>\n",
       "    <tr>\n",
       "      <th>3</th>\n",
       "      <td>-0.888762</td>\n",
       "      <td>1.216246</td>\n",
       "      <td>-0.716404</td>\n",
       "      <td>-0.437019</td>\n",
       "      <td>-0.497195</td>\n",
       "      <td>-0.900694</td>\n",
       "      <td>0.670152</td>\n",
       "      <td>-1.586666</td>\n",
       "      <td>1.428452</td>\n",
       "      <td>-0.678852</td>\n",
       "      <td>0.0</td>\n",
       "      <td>0.0</td>\n",
       "      <td>1.0</td>\n",
       "      <td>0.0</td>\n",
       "      <td>0.0</td>\n",
       "      <td>0.0</td>\n",
       "      <td>1.0</td>\n",
       "      <td>1.0</td>\n",
       "      <td>0.0</td>\n",
       "      <td>0.0</td>\n",
       "    </tr>\n",
       "    <tr>\n",
       "      <th>4</th>\n",
       "      <td>2.343100</td>\n",
       "      <td>2.744719</td>\n",
       "      <td>-0.716404</td>\n",
       "      <td>-0.437019</td>\n",
       "      <td>0.394342</td>\n",
       "      <td>2.844768</td>\n",
       "      <td>0.670152</td>\n",
       "      <td>0.448742</td>\n",
       "      <td>-0.203201</td>\n",
       "      <td>-0.678852</td>\n",
       "      <td>0.0</td>\n",
       "      <td>0.0</td>\n",
       "      <td>1.0</td>\n",
       "      <td>1.0</td>\n",
       "      <td>0.0</td>\n",
       "      <td>0.0</td>\n",
       "      <td>0.0</td>\n",
       "      <td>0.0</td>\n",
       "      <td>0.0</td>\n",
       "      <td>1.0</td>\n",
       "    </tr>\n",
       "  </tbody>\n",
       "</table>\n",
       "</div>"
      ],
      "text/plain": [
       "   slope_of_peak_exercise_st_segment  resting_blood_pressure  \\\n",
       "0                          -0.888762               -0.194652   \n",
       "1                           0.727169               -1.252825   \n",
       "2                          -0.888762               -0.371014   \n",
       "3                          -0.888762                1.216246   \n",
       "4                           2.343100                2.744719   \n",
       "\n",
       "   num_major_vessels  fasting_blood_sugar_gt_120_mg_per_dl  \\\n",
       "0          -0.716404                             -0.437019   \n",
       "1          -0.716404                             -0.437019   \n",
       "2           2.378462                             -0.437019   \n",
       "3          -0.716404                             -0.437019   \n",
       "4          -0.716404                             -0.437019   \n",
       "\n",
       "   serum_cholesterol_mg_per_dl  oldpeak_eq_st_depression       sex       age  \\\n",
       "0                     1.115158                 -0.900694  0.670152 -1.051032   \n",
       "1                    -0.667915                  0.526148 -1.483908 -0.086892   \n",
       "2                     1.039283                 -0.900694  0.670152  2.377024   \n",
       "3                    -0.497195                 -0.900694  0.670152 -1.586666   \n",
       "4                     0.394342                  2.844768  0.670152  0.448742   \n",
       "\n",
       "   max_heart_rate_achieved  exercise_induced_angina  thal_fixed_defect  \\\n",
       "0                 0.929891                -0.678852                0.0   \n",
       "1                 0.386007                -0.678852                0.0   \n",
       "2                 0.567302                 1.464891                0.0   \n",
       "3                 1.428452                -0.678852                0.0   \n",
       "4                -0.203201                -0.678852                0.0   \n",
       "\n",
       "   thal_normal  thal_reversible_defect  chest_pain_type_1  chest_pain_type_2  \\\n",
       "0          1.0                     0.0                0.0                1.0   \n",
       "1          1.0                     0.0                0.0                0.0   \n",
       "2          1.0                     0.0                0.0                0.0   \n",
       "3          0.0                     1.0                0.0                0.0   \n",
       "4          0.0                     1.0                1.0                0.0   \n",
       "\n",
       "   chest_pain_type_3  chest_pain_type_4  resting_ekg_results_0  \\\n",
       "0                0.0                0.0                    0.0   \n",
       "1                1.0                0.0                    1.0   \n",
       "2                0.0                1.0                    0.0   \n",
       "3                0.0                1.0                    1.0   \n",
       "4                0.0                0.0                    0.0   \n",
       "\n",
       "   resting_ekg_results_1  resting_ekg_results_2  \n",
       "0                    0.0                    1.0  \n",
       "1                    0.0                    0.0  \n",
       "2                    0.0                    1.0  \n",
       "3                    0.0                    0.0  \n",
       "4                    0.0                    1.0  "
      ]
     },
     "execution_count": 115,
     "metadata": {},
     "output_type": "execute_result"
    }
   ],
   "source": [
    "train.head()"
   ]
  },
  {
   "cell_type": "markdown",
   "metadata": {},
   "source": [
    "## Prepare Labels"
   ]
  },
  {
   "cell_type": "code",
   "execution_count": 116,
   "metadata": {},
   "outputs": [],
   "source": [
    "labels = np.ravel(labels.drop('patient_id', axis=1))"
   ]
  },
  {
   "cell_type": "markdown",
   "metadata": {},
   "source": [
    "## Split Data"
   ]
  },
  {
   "cell_type": "code",
   "execution_count": 125,
   "metadata": {},
   "outputs": [
    {
     "name": "stdout",
     "output_type": "stream",
     "text": [
      "(135, 20) (45, 20)\n"
     ]
    }
   ],
   "source": [
    "cutoff = int(npatients*0.75)\n",
    "train1 = train.iloc[:cutoff]\n",
    "train2 = train.iloc[cutoff:]\n",
    "labels1 = labels[:cutoff]\n",
    "labels2 = labels[cutoff:]\n",
    "print train1.shape, train2.shape"
   ]
  },
  {
   "cell_type": "markdown",
   "metadata": {},
   "source": [
    "# Random Forest"
   ]
  },
  {
   "cell_type": "code",
   "execution_count": 117,
   "metadata": {
    "collapsed": true
   },
   "outputs": [],
   "source": [
    "# random forests are often a good model to try first, especially when we have numeric and categorical variables in our feature space.\n",
    "def train_model(features, labels, **kwargs):\n",
    "    \n",
    "    # instantiate model\n",
    "    # model = RandomForestClassifier(n_estimators=50, random_state=0)\n",
    "    model = ExtraTreesClassifier(n_estimators=50, random_state=0)\n",
    "    \n",
    "    # train model\n",
    "    model.fit(features, labels)\n",
    "    \n",
    "    # get a (not-very-useful) sense of performance\n",
    "    accuracy = model.score(features, labels)\n",
    "    # print(f\"In-sample accuracy: {accuracy:0.2%}\")\n",
    "    print(\"In-sample accuracy: %.2f percent\" %(accuracy*100))\n",
    "    \n",
    "    return model"
   ]
  },
  {
   "cell_type": "code",
   "execution_count": 126,
   "metadata": {},
   "outputs": [
    {
     "name": "stdout",
     "output_type": "stream",
     "text": [
      "In-sample accuracy: 100.00 percent\n"
     ]
    }
   ],
   "source": [
    "model_a = train_model(train1, labels1)"
   ]
  },
  {
   "cell_type": "code",
   "execution_count": 129,
   "metadata": {},
   "outputs": [],
   "source": [
    "preds = model_a.predict(train2)"
   ]
  },
  {
   "cell_type": "code",
   "execution_count": 132,
   "metadata": {},
   "outputs": [
    {
     "name": "stdout",
     "output_type": "stream",
     "text": [
      "Accuracy: 0.69\n"
     ]
    }
   ],
   "source": [
    "print 'Accuracy: %.2f' %(np.sum(preds == labels2)/len(preds))"
   ]
  },
  {
   "cell_type": "code",
   "execution_count": null,
   "metadata": {
    "collapsed": true
   },
   "outputs": [],
   "source": []
  }
 ],
 "metadata": {
  "kernelspec": {
   "display_name": "Python 2",
   "language": "python",
   "name": "python2"
  },
  "language_info": {
   "codemirror_mode": {
    "name": "ipython",
    "version": 2
   },
   "file_extension": ".py",
   "mimetype": "text/x-python",
   "name": "python",
   "nbconvert_exporter": "python",
   "pygments_lexer": "ipython2",
   "version": "2.7.12"
  }
 },
 "nbformat": 4,
 "nbformat_minor": 1
}
