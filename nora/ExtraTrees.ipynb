{
 "cells": [
  {
   "cell_type": "code",
   "execution_count": 101,
   "metadata": {
    "collapsed": true
   },
   "outputs": [],
   "source": [
    "%matplotlib inline\n",
    "from __future__ import division\n",
    "import numpy as np\n",
    "import matplotlib.pyplot as plt\n",
    "import pandas as pd\n",
    "from sklearn.ensemble import ExtraTreesClassifier\n",
    "from sklearn.ensemble import RandomForestClassifier\n",
    "from sklearn.metrics import log_loss\n",
    "from sklearn.feature_selection import RFE\n",
    "from sklearn.model_selection import train_test_split\n",
    "from sklearn.model_selection import cross_val_score\n",
    "from sklearn.metrics import roc_curve\n",
    "from sklearn.model_selection import GridSearchCV"
   ]
  },
  {
   "cell_type": "code",
   "execution_count": 108,
   "metadata": {
    "collapsed": true
   },
   "outputs": [],
   "source": [
    "dpi = 175\n",
    "fontsize = 10\n",
    "plt.rc(\"savefig\", dpi=dpi)\n",
    "plt.rc('text', usetex=True)\n",
    "plt.rc('font', size=fontsize)\n",
    "plt.rc('xtick.major', pad=5)\n",
    "plt.rc('xtick.minor', pad=5)\n",
    "plt.rc('ytick.major', pad=5)\n",
    "plt.rc('ytick.minor', pad=5)"
   ]
  },
  {
   "cell_type": "markdown",
   "metadata": {},
   "source": [
    "# Load Data"
   ]
  },
  {
   "cell_type": "code",
   "execution_count": 2,
   "metadata": {
    "collapsed": true
   },
   "outputs": [],
   "source": [
    "data_dir = '/Users/nora/Box/dssg/DrivenData/Heart/data/'"
   ]
  },
  {
   "cell_type": "code",
   "execution_count": 3,
   "metadata": {
    "collapsed": true
   },
   "outputs": [],
   "source": [
    "test = pd.read_csv(data_dir + 'test_values.csv')\n",
    "train = pd.read_csv(data_dir + 'train_values.csv')\n",
    "labels = pd.read_csv(data_dir + 'train_labels.csv')"
   ]
  },
  {
   "cell_type": "code",
   "execution_count": 4,
   "metadata": {
    "collapsed": true
   },
   "outputs": [],
   "source": [
    "npatients = len(train)"
   ]
  },
  {
   "cell_type": "markdown",
   "metadata": {},
   "source": [
    "# Prepare Data"
   ]
  },
  {
   "cell_type": "code",
   "execution_count": 5,
   "metadata": {
    "collapsed": true
   },
   "outputs": [],
   "source": [
    "def convert_columns(df, cols=[]):\n",
    "    for col in cols:\n",
    "        df[col] = df[col].astype(str)\n",
    "    return df\n",
    "        \n",
    "def standardize(df, numeric_only=True):\n",
    "    numeric = df.select_dtypes(include=['int64', 'float64'])\n",
    "    \n",
    "    # subtracy mean and divide by std\n",
    "    df[numeric.columns] = (numeric - numeric.mean()) / numeric.std()\n",
    "    \n",
    "    return df\n",
    "\n",
    "def pre_process_data(df, enforce_cols=None):\n",
    "    print(\"Input shape:\\t{}\".format(df.shape))\n",
    "        \n",
    "\n",
    "    df = standardize(df)\n",
    "    print(\"After standardization {}\".format(df.shape))\n",
    "        \n",
    "    # create dummy variables for categoricals\n",
    "    df = pd.get_dummies(df)\n",
    "    print(\"After converting categoricals:\\t{}\".format(df.shape))\n",
    "    \n",
    "\n",
    "    # match test set and training set columns\n",
    "    if enforce_cols is not None:\n",
    "        to_drop = np.setdiff1d(df.columns, enforce_cols)\n",
    "        to_add = np.setdiff1d(enforce_cols, df.columns)\n",
    "\n",
    "        df.drop(to_drop, axis=1, inplace=True)\n",
    "        df = df.assign(**{c: 0 for c in to_add})\n",
    "    \n",
    "    df.fillna(0, inplace=True)\n",
    "    \n",
    "    return df"
   ]
  },
  {
   "cell_type": "markdown",
   "metadata": {},
   "source": [
    "## Prepare Train"
   ]
  },
  {
   "cell_type": "code",
   "execution_count": 6,
   "metadata": {
    "scrolled": false
   },
   "outputs": [
    {
     "name": "stdout",
     "output_type": "stream",
     "text": [
      "Input shape:\t(180, 13)\n",
      "After standardization (180, 13)\n",
      "After converting categoricals:\t(180, 20)\n"
     ]
    }
   ],
   "source": [
    "patient_id = train['patient_id'].as_matrix()\n",
    "train = train.drop('patient_id', axis=1)\n",
    "train = convert_columns(train, cols=['chest_pain_type', 'resting_ekg_results'])\n",
    "train = pre_process_data(train)"
   ]
  },
  {
   "cell_type": "code",
   "execution_count": 7,
   "metadata": {},
   "outputs": [
    {
     "data": {
      "text/html": [
       "<div>\n",
       "<table border=\"1\" class=\"dataframe\">\n",
       "  <thead>\n",
       "    <tr style=\"text-align: right;\">\n",
       "      <th></th>\n",
       "      <th>slope_of_peak_exercise_st_segment</th>\n",
       "      <th>resting_blood_pressure</th>\n",
       "      <th>num_major_vessels</th>\n",
       "      <th>fasting_blood_sugar_gt_120_mg_per_dl</th>\n",
       "      <th>serum_cholesterol_mg_per_dl</th>\n",
       "      <th>oldpeak_eq_st_depression</th>\n",
       "      <th>sex</th>\n",
       "      <th>age</th>\n",
       "      <th>max_heart_rate_achieved</th>\n",
       "      <th>exercise_induced_angina</th>\n",
       "      <th>thal_fixed_defect</th>\n",
       "      <th>thal_normal</th>\n",
       "      <th>thal_reversible_defect</th>\n",
       "      <th>chest_pain_type_1</th>\n",
       "      <th>chest_pain_type_2</th>\n",
       "      <th>chest_pain_type_3</th>\n",
       "      <th>chest_pain_type_4</th>\n",
       "      <th>resting_ekg_results_0</th>\n",
       "      <th>resting_ekg_results_1</th>\n",
       "      <th>resting_ekg_results_2</th>\n",
       "    </tr>\n",
       "  </thead>\n",
       "  <tbody>\n",
       "    <tr>\n",
       "      <th>0</th>\n",
       "      <td>-0.888762</td>\n",
       "      <td>-0.194652</td>\n",
       "      <td>-0.716404</td>\n",
       "      <td>-0.437019</td>\n",
       "      <td>1.115158</td>\n",
       "      <td>-0.900694</td>\n",
       "      <td>0.670152</td>\n",
       "      <td>-1.051032</td>\n",
       "      <td>0.929891</td>\n",
       "      <td>-0.678852</td>\n",
       "      <td>0.0</td>\n",
       "      <td>1.0</td>\n",
       "      <td>0.0</td>\n",
       "      <td>0.0</td>\n",
       "      <td>1.0</td>\n",
       "      <td>0.0</td>\n",
       "      <td>0.0</td>\n",
       "      <td>0.0</td>\n",
       "      <td>0.0</td>\n",
       "      <td>1.0</td>\n",
       "    </tr>\n",
       "    <tr>\n",
       "      <th>1</th>\n",
       "      <td>0.727169</td>\n",
       "      <td>-1.252825</td>\n",
       "      <td>-0.716404</td>\n",
       "      <td>-0.437019</td>\n",
       "      <td>-0.667915</td>\n",
       "      <td>0.526148</td>\n",
       "      <td>-1.483908</td>\n",
       "      <td>-0.086892</td>\n",
       "      <td>0.386007</td>\n",
       "      <td>-0.678852</td>\n",
       "      <td>0.0</td>\n",
       "      <td>1.0</td>\n",
       "      <td>0.0</td>\n",
       "      <td>0.0</td>\n",
       "      <td>0.0</td>\n",
       "      <td>1.0</td>\n",
       "      <td>0.0</td>\n",
       "      <td>1.0</td>\n",
       "      <td>0.0</td>\n",
       "      <td>0.0</td>\n",
       "    </tr>\n",
       "    <tr>\n",
       "      <th>2</th>\n",
       "      <td>-0.888762</td>\n",
       "      <td>-0.371014</td>\n",
       "      <td>2.378462</td>\n",
       "      <td>-0.437019</td>\n",
       "      <td>1.039283</td>\n",
       "      <td>-0.900694</td>\n",
       "      <td>0.670152</td>\n",
       "      <td>2.377024</td>\n",
       "      <td>0.567302</td>\n",
       "      <td>1.464891</td>\n",
       "      <td>0.0</td>\n",
       "      <td>1.0</td>\n",
       "      <td>0.0</td>\n",
       "      <td>0.0</td>\n",
       "      <td>0.0</td>\n",
       "      <td>0.0</td>\n",
       "      <td>1.0</td>\n",
       "      <td>0.0</td>\n",
       "      <td>0.0</td>\n",
       "      <td>1.0</td>\n",
       "    </tr>\n",
       "    <tr>\n",
       "      <th>3</th>\n",
       "      <td>-0.888762</td>\n",
       "      <td>1.216246</td>\n",
       "      <td>-0.716404</td>\n",
       "      <td>-0.437019</td>\n",
       "      <td>-0.497195</td>\n",
       "      <td>-0.900694</td>\n",
       "      <td>0.670152</td>\n",
       "      <td>-1.586666</td>\n",
       "      <td>1.428452</td>\n",
       "      <td>-0.678852</td>\n",
       "      <td>0.0</td>\n",
       "      <td>0.0</td>\n",
       "      <td>1.0</td>\n",
       "      <td>0.0</td>\n",
       "      <td>0.0</td>\n",
       "      <td>0.0</td>\n",
       "      <td>1.0</td>\n",
       "      <td>1.0</td>\n",
       "      <td>0.0</td>\n",
       "      <td>0.0</td>\n",
       "    </tr>\n",
       "    <tr>\n",
       "      <th>4</th>\n",
       "      <td>2.343100</td>\n",
       "      <td>2.744719</td>\n",
       "      <td>-0.716404</td>\n",
       "      <td>-0.437019</td>\n",
       "      <td>0.394342</td>\n",
       "      <td>2.844768</td>\n",
       "      <td>0.670152</td>\n",
       "      <td>0.448742</td>\n",
       "      <td>-0.203201</td>\n",
       "      <td>-0.678852</td>\n",
       "      <td>0.0</td>\n",
       "      <td>0.0</td>\n",
       "      <td>1.0</td>\n",
       "      <td>1.0</td>\n",
       "      <td>0.0</td>\n",
       "      <td>0.0</td>\n",
       "      <td>0.0</td>\n",
       "      <td>0.0</td>\n",
       "      <td>0.0</td>\n",
       "      <td>1.0</td>\n",
       "    </tr>\n",
       "  </tbody>\n",
       "</table>\n",
       "</div>"
      ],
      "text/plain": [
       "   slope_of_peak_exercise_st_segment  resting_blood_pressure  \\\n",
       "0                          -0.888762               -0.194652   \n",
       "1                           0.727169               -1.252825   \n",
       "2                          -0.888762               -0.371014   \n",
       "3                          -0.888762                1.216246   \n",
       "4                           2.343100                2.744719   \n",
       "\n",
       "   num_major_vessels  fasting_blood_sugar_gt_120_mg_per_dl  \\\n",
       "0          -0.716404                             -0.437019   \n",
       "1          -0.716404                             -0.437019   \n",
       "2           2.378462                             -0.437019   \n",
       "3          -0.716404                             -0.437019   \n",
       "4          -0.716404                             -0.437019   \n",
       "\n",
       "   serum_cholesterol_mg_per_dl  oldpeak_eq_st_depression       sex       age  \\\n",
       "0                     1.115158                 -0.900694  0.670152 -1.051032   \n",
       "1                    -0.667915                  0.526148 -1.483908 -0.086892   \n",
       "2                     1.039283                 -0.900694  0.670152  2.377024   \n",
       "3                    -0.497195                 -0.900694  0.670152 -1.586666   \n",
       "4                     0.394342                  2.844768  0.670152  0.448742   \n",
       "\n",
       "   max_heart_rate_achieved  exercise_induced_angina  thal_fixed_defect  \\\n",
       "0                 0.929891                -0.678852                0.0   \n",
       "1                 0.386007                -0.678852                0.0   \n",
       "2                 0.567302                 1.464891                0.0   \n",
       "3                 1.428452                -0.678852                0.0   \n",
       "4                -0.203201                -0.678852                0.0   \n",
       "\n",
       "   thal_normal  thal_reversible_defect  chest_pain_type_1  chest_pain_type_2  \\\n",
       "0          1.0                     0.0                0.0                1.0   \n",
       "1          1.0                     0.0                0.0                0.0   \n",
       "2          1.0                     0.0                0.0                0.0   \n",
       "3          0.0                     1.0                0.0                0.0   \n",
       "4          0.0                     1.0                1.0                0.0   \n",
       "\n",
       "   chest_pain_type_3  chest_pain_type_4  resting_ekg_results_0  \\\n",
       "0                0.0                0.0                    0.0   \n",
       "1                1.0                0.0                    1.0   \n",
       "2                0.0                1.0                    0.0   \n",
       "3                0.0                1.0                    1.0   \n",
       "4                0.0                0.0                    0.0   \n",
       "\n",
       "   resting_ekg_results_1  resting_ekg_results_2  \n",
       "0                    0.0                    1.0  \n",
       "1                    0.0                    0.0  \n",
       "2                    0.0                    1.0  \n",
       "3                    0.0                    0.0  \n",
       "4                    0.0                    1.0  "
      ]
     },
     "execution_count": 7,
     "metadata": {},
     "output_type": "execute_result"
    }
   ],
   "source": [
    "train.head()"
   ]
  },
  {
   "cell_type": "markdown",
   "metadata": {},
   "source": [
    "## Prepare Labels"
   ]
  },
  {
   "cell_type": "code",
   "execution_count": 8,
   "metadata": {
    "collapsed": true
   },
   "outputs": [],
   "source": [
    "labels = np.ravel(labels.drop('patient_id', axis=1))"
   ]
  },
  {
   "cell_type": "markdown",
   "metadata": {},
   "source": [
    "## Prepare Test"
   ]
  },
  {
   "cell_type": "code",
   "execution_count": 9,
   "metadata": {},
   "outputs": [
    {
     "name": "stdout",
     "output_type": "stream",
     "text": [
      "Input shape:\t(90, 13)\n",
      "After standardization (90, 13)\n",
      "After converting categoricals:\t(90, 20)\n"
     ]
    }
   ],
   "source": [
    "test_patient_id = test['patient_id'].as_matrix()\n",
    "test = test.drop('patient_id', axis=1)\n",
    "test = convert_columns(test, cols=['chest_pain_type', 'resting_ekg_results'])\n",
    "test = pre_process_data(test)"
   ]
  },
  {
   "cell_type": "markdown",
   "metadata": {},
   "source": [
    "## Split Data"
   ]
  },
  {
   "cell_type": "code",
   "execution_count": 10,
   "metadata": {
    "collapsed": true
   },
   "outputs": [],
   "source": [
    "train1, train2, labels1, labels2 = train_test_split(train, labels, train_size=0.75, test_size=0.25, shuffle=True)"
   ]
  },
  {
   "cell_type": "markdown",
   "metadata": {},
   "source": [
    "# Prepare Submission"
   ]
  },
  {
   "cell_type": "code",
   "execution_count": 11,
   "metadata": {
    "collapsed": true
   },
   "outputs": [],
   "source": [
    "def prepare_submission(model, test, fname='submission.csv'):\n",
    "    probs = model.predict_proba(test)\n",
    "    sub = pd.DataFrame(np.vstack([test_patient_id, probs[:,1]]).T)\n",
    "    sub.to_csv(fname, sep=',', header=['patient_id','heart_disease_present'], index=False)"
   ]
  },
  {
   "cell_type": "code",
   "execution_count": 12,
   "metadata": {
    "collapsed": true
   },
   "outputs": [],
   "source": [
    "def get_score(model, test, labels, printing=True):\n",
    "    probs = model.predict_proba(test)\n",
    "    preds = model.predict(test)\n",
    "    if printing:\n",
    "        print 'Accuracy: %.2f' %(model.score(test, labels)) # %(len(np.where(preds == labels))/len(preds))\n",
    "        print 'Log loss: %.2f' %(log_loss(labels, probs))\n",
    "    return log_loss(labels, probs)"
   ]
  },
  {
   "cell_type": "markdown",
   "metadata": {},
   "source": [
    "# Extra Trees Classifier"
   ]
  },
  {
   "cell_type": "code",
   "execution_count": 13,
   "metadata": {
    "collapsed": true
   },
   "outputs": [],
   "source": [
    "# random forests are often a good model to try first, especially when we have numeric and categorical variables in our feature space.\n",
    "def train_etc(features, labels, **kwargs):\n",
    "    \n",
    "    # instantiate model\n",
    "    # model = RandomForestClassifier(n_estimators=50, random_state=0)\n",
    "    model = ExtraTreesClassifier(n_estimators=50, random_state=0)\n",
    "    \n",
    "    # train model\n",
    "    model.fit(features, labels)\n",
    "    \n",
    "    # get a (not-very-useful) sense of performance\n",
    "    accuracy = model.score(features, labels)\n",
    "    # print(f\"In-sample accuracy: {accuracy:0.2%}\")\n",
    "    # print(\"In-sample accuracy: %.2f percent\" %(accuracy*100))\n",
    "    \n",
    "    return model"
   ]
  },
  {
   "cell_type": "code",
   "execution_count": 14,
   "metadata": {
    "collapsed": true
   },
   "outputs": [],
   "source": [
    "model = train_etc(train1, labels1)"
   ]
  },
  {
   "cell_type": "code",
   "execution_count": 15,
   "metadata": {
    "collapsed": true
   },
   "outputs": [],
   "source": [
    "preds = model.predict(train2)\n",
    "probs = model.predict_proba(train2)"
   ]
  },
  {
   "cell_type": "code",
   "execution_count": 16,
   "metadata": {},
   "outputs": [
    {
     "name": "stdout",
     "output_type": "stream",
     "text": [
      "Accuracy: 0.80\n",
      "Log loss: 1.09\n"
     ]
    }
   ],
   "source": [
    "print 'Accuracy: %.2f' %(model.score(train2, labels2))\n",
    "print 'Log loss: %.2f' %(log_loss(labels2, probs))"
   ]
  },
  {
   "cell_type": "code",
   "execution_count": 17,
   "metadata": {
    "collapsed": true
   },
   "outputs": [],
   "source": [
    "model = train_etc(train, labels)"
   ]
  },
  {
   "cell_type": "code",
   "execution_count": 18,
   "metadata": {
    "collapsed": true
   },
   "outputs": [],
   "source": [
    "probs = model.predict_proba(test)\n",
    "preds = model.predict(test)"
   ]
  },
  {
   "cell_type": "code",
   "execution_count": 19,
   "metadata": {
    "collapsed": true
   },
   "outputs": [],
   "source": [
    "sub = pd.DataFrame(np.vstack([test_patient_id, probs[:,1]]).T)"
   ]
  },
  {
   "cell_type": "code",
   "execution_count": 20,
   "metadata": {
    "collapsed": true
   },
   "outputs": [],
   "source": [
    "sub.to_csv('submission1.csv', sep=',', header=['patient_id','heart_disease_present'], index=False)"
   ]
  },
  {
   "cell_type": "code",
   "execution_count": 21,
   "metadata": {
    "collapsed": true
   },
   "outputs": [],
   "source": [
    "prepare_submission(model, test, 'submission.csv')"
   ]
  },
  {
   "cell_type": "markdown",
   "metadata": {},
   "source": [
    "# Visualize Score"
   ]
  },
  {
   "cell_type": "code",
   "execution_count": 103,
   "metadata": {
    "collapsed": true
   },
   "outputs": [],
   "source": [
    "def plot_results(labels, probs, thresh=0.5):\n",
    "    plt.figure(figsize=(3,3))\n",
    "    plt.scatter(labels, probs[:,1], edgecolor='none', c='cornflowerblue', s=40, alpha=0.5)\n",
    "    plt.axhline(thresh, c='grey', alpha=0.2, lw=2, zorder=0, ls='--')\n",
    "    plt.xlabel('True Classification')\n",
    "    plt.ylabel('Model Probability')\n",
    "    plt.title('log loss = %.2f'%log_loss(labels, probs))\n",
    "    plt.xticks([0,1])\n",
    "    plt.xlim(-0.5, 1.5)\n",
    "    plt.show()\n",
    "    \n",
    "    \n",
    "    fpr, tpr, thresh = roc_curve(labels2, probs[:,1])\n",
    "    \n",
    "    plt.figure(figsize=(3,3))\n",
    "    plt.plot(fpr, tpr, 'cornflowerblue', lw=3)\n",
    "    plt.xlabel('False Positives')\n",
    "    plt.ylabel('True Positives')\n",
    "    plt.title('ROC Curve')\n",
    "    plt.xlim(-0.1,1.1)\n",
    "    plt.ylim(-0.1,1.1)\n",
    "    plt.grid()\n",
    "    plt.show()"
   ]
  },
  {
   "cell_type": "code",
   "execution_count": 104,
   "metadata": {
    "collapsed": true
   },
   "outputs": [],
   "source": [
    "model = train_etc(train1, labels1)"
   ]
  },
  {
   "cell_type": "code",
   "execution_count": 105,
   "metadata": {
    "collapsed": true
   },
   "outputs": [],
   "source": [
    "probs = model.predict_proba(train2)\n",
    "preds = model.predict(train2)"
   ]
  },
  {
   "cell_type": "code",
   "execution_count": 109,
   "metadata": {},
   "outputs": [
    {
     "data": {
      "image/png": "[encoded data removed]",
      "text/plain": [
       "<matplotlib.figure.Figure at 0x113069110>"
      ]
     },
     "metadata": {},
     "output_type": "display_data"
    },
    {
     "data": {
      "image/png": "[encoded data removed]",
      "text/plain": [
       "<matplotlib.figure.Figure at 0x111196850>"
      ]
     },
     "metadata": {},
     "output_type": "display_data"
    }
   ],
   "source": [
    "plot_results(labels2, probs)"
   ]
  },
  {
   "cell_type": "markdown",
   "metadata": {},
   "source": []
  },
  {
   "cell_type": "code",
   "execution_count": 115,
   "metadata": {},
   "outputs": [],
   "source": [
    "ext = ExtraTreesClassifier(n_jobs=2)\n",
    "params = {'n_estimators':[10, 20, 50, 100, 200], 'criterion':['gini', 'entropy'], 'min_samples_split':[2, 3, 4, 5]}"
   ]
  },
  {
   "cell_type": "code",
   "execution_count": 116,
   "metadata": {},
   "outputs": [
    {
     "data": {
      "text/plain": [
       "GridSearchCV(cv=10, error_score='raise',\n",
       "       estimator=ExtraTreesClassifier(bootstrap=False, class_weight=None, criterion='gini',\n",
       "           max_depth=None, max_features='auto', max_leaf_nodes=None,\n",
       "           min_impurity_decrease=0.0, min_impurity_split=None,\n",
       "           min_samples_leaf=1, min_samples_split=2,\n",
       "           min_weight_fraction_leaf=0.0, n_estimators=10, n_jobs=2,\n",
       "           oob_score=False, random_state=None, verbose=0, warm_start=False),\n",
       "       fit_params=None, iid=True, n_jobs=1,\n",
       "       param_grid={'n_estimators': [10, 20, 50, 100, 200], 'min_samples_split': [2, 3, 4, 5], 'criterion': ['gini', 'entropy']},\n",
       "       pre_dispatch='2*n_jobs', refit=True, return_train_score=True,\n",
       "       scoring=None, verbose=0)"
      ]
     },
     "execution_count": 116,
     "metadata": {},
     "output_type": "execute_result"
    }
   ],
   "source": [
    "ext_gs = GridSearchCV(ext, params, cv=10, return_train_score=True)\n",
    "ext_gs.fit(train, labels)"
   ]
  },
  {
   "cell_type": "code",
   "execution_count": 122,
   "metadata": {},
   "outputs": [
    {
     "name": "stdout",
     "output_type": "stream",
     "text": [
      "Best params:  {'min_samples_split': 3, 'n_estimators': 100, 'criterion': 'gini'}\n"
     ]
    }
   ],
   "source": [
    "print 'Best params: ', ext_gs.best_params_\n",
    "best_ext = ext_gs.best_estimator_"
   ]
  },
  {
   "cell_type": "code",
   "execution_count": 124,
   "metadata": {
    "collapsed": true
   },
   "outputs": [],
   "source": [
    "prepare_submission(best_ext, test, fname='submission_ext_cv.csv')"
   ]
  },
  {
   "cell_type": "code",
   "execution_count": null,
   "metadata": {
    "collapsed": true
   },
   "outputs": [],
   "source": []
  }
 ],
 "metadata": {
  "kernelspec": {
   "display_name": "Python 2",
   "language": "python",
   "name": "python2"
  },
  "language_info": {
   "codemirror_mode": {
    "name": "ipython",
    "version": 2
   },
   "file_extension": ".py",
   "mimetype": "text/x-python",
   "name": "python",
   "nbconvert_exporter": "python",
   "pygments_lexer": "ipython2",
   "version": "2.7.12"
  }
 },
 "nbformat": 4,
 "nbformat_minor": 1
}
