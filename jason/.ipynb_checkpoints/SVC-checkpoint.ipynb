{
 "cells": [
  {
   "cell_type": "code",
   "execution_count": 31,
   "metadata": {},
   "outputs": [],
   "source": [
    "%matplotlib inline\n",
    "import numpy as np\n",
    "import sklearn as sk\n",
    "import matplotlib.pyplot as plt\n",
    "import scipy as sp\n",
    "import pandas as pd\n",
    "from sklearn.metrics import log_loss\n",
    "from sklearn.model_selection import train_test_split\n",
    "from sklearn.model_selection import cross_val_score\n",
    "from sklearn.metrics import roc_curve\n",
    "from sklearn.model_selection import GridSearchCV\n",
    "from sklearn import preprocessing\n",
    "\n",
    "def convert_columns(df, cols=[]):\n",
    "    for col in cols:\n",
    "        df[col] = df[col].astype(str)\n",
    "    return df\n",
    "        \n",
    "def standardize(df, numeric_only=True):\n",
    "    numeric = df.select_dtypes(include=['int64', 'float64'])\n",
    "    \n",
    "    # subtracy mean and divide by std\n",
    "    df[numeric.columns] = (numeric - numeric.mean()) / numeric.std()\n",
    "    \n",
    "    return df\n",
    "\n",
    "def pre_process_data(df, enforce_cols=None):\n",
    "    print(\"Input shape:\\t{}\".format(df.shape))\n",
    "        \n",
    "\n",
    "    df = standardize(df)\n",
    "    print(\"After standardization {}\".format(df.shape))\n",
    "        \n",
    "    # create dummy variables for categoricals\n",
    "    df = pd.get_dummies(df)\n",
    "    print(\"After converting categoricals:\\t{}\".format(df.shape))\n",
    "    \n",
    "\n",
    "    # match test set and training set columns\n",
    "    if enforce_cols is not None:\n",
    "        to_drop = np.setdiff1d(df.columns, enforce_cols)\n",
    "        to_add = np.setdiff1d(enforce_cols, df.columns)\n",
    "\n",
    "        df.drop(to_drop, axis=1, inplace=True)\n",
    "        df = df.assign(**{c: 0 for c in to_add})\n",
    "    \n",
    "    df.fillna(0, inplace=True)\n",
    "    \n",
    "    return df\n",
    "\n",
    "def pre_process_data_all(df, enforce_cols=None):\n",
    "    print(\"Input shape:\\t{}\".format(df.shape))\n",
    "        \n",
    "    # create dummy variables for categoricals\n",
    "    df = pd.get_dummies(df)\n",
    "    print(\"After converting categoricals:\\t{}\".format(df.shape))\n",
    "    \n",
    "    # match test set and training set columns\n",
    "    if enforce_cols is not None:\n",
    "        to_drop = np.setdiff1d(df.columns, enforce_cols)\n",
    "        to_add = np.setdiff1d(enforce_cols, df.columns)\n",
    "\n",
    "        df.drop(to_drop, axis=1, inplace=True)\n",
    "        df = df.assign(**{c: 0 for c in to_add})\n",
    "    \n",
    "    df.fillna(0, inplace=True)\n",
    "    \n",
    "    df = preprocessing.scale(df)\n",
    "    print(\"After standardization {}\".format(df.shape))\n",
    "        \n",
    "    return df\n",
    "\n",
    "def pairwise_plots(train_values, train_labels):\n",
    "    train_c = train_values.join(train_labels['heart_disease_present'])\n",
    "\n",
    "    import seaborn as sns\n",
    "    sns.pairplot(train_c, hue='heart_disease_present', diag_kind = 'kde')\n",
    "######################"
   ]
  },
  {
   "cell_type": "markdown",
   "metadata": {},
   "source": [
    "# Import Data, Convert Tables"
   ]
  },
  {
   "cell_type": "code",
   "execution_count": 33,
   "metadata": {},
   "outputs": [
    {
     "name": "stdout",
     "output_type": "stream",
     "text": [
      "Input shape:\t(180, 13)\n",
      "After standardization (180, 13)\n",
      "After converting categoricals:\t(180, 20)\n"
     ]
    },
    {
     "data": {
      "text/html": [
       "<div>\n",
       "<style scoped>\n",
       "    .dataframe tbody tr th:only-of-type {\n",
       "        vertical-align: middle;\n",
       "    }\n",
       "\n",
       "    .dataframe tbody tr th {\n",
       "        vertical-align: top;\n",
       "    }\n",
       "\n",
       "    .dataframe thead th {\n",
       "        text-align: right;\n",
       "    }\n",
       "</style>\n",
       "<table border=\"1\" class=\"dataframe\">\n",
       "  <thead>\n",
       "    <tr style=\"text-align: right;\">\n",
       "      <th></th>\n",
       "      <th>slope_of_peak_exercise_st_segment</th>\n",
       "      <th>resting_blood_pressure</th>\n",
       "      <th>num_major_vessels</th>\n",
       "      <th>fasting_blood_sugar_gt_120_mg_per_dl</th>\n",
       "      <th>serum_cholesterol_mg_per_dl</th>\n",
       "      <th>oldpeak_eq_st_depression</th>\n",
       "      <th>sex</th>\n",
       "      <th>age</th>\n",
       "      <th>max_heart_rate_achieved</th>\n",
       "      <th>exercise_induced_angina</th>\n",
       "      <th>thal_fixed_defect</th>\n",
       "      <th>thal_normal</th>\n",
       "      <th>thal_reversible_defect</th>\n",
       "      <th>chest_pain_type_1</th>\n",
       "      <th>chest_pain_type_2</th>\n",
       "      <th>chest_pain_type_3</th>\n",
       "      <th>chest_pain_type_4</th>\n",
       "      <th>resting_ekg_results_0</th>\n",
       "      <th>resting_ekg_results_1</th>\n",
       "      <th>resting_ekg_results_2</th>\n",
       "    </tr>\n",
       "  </thead>\n",
       "  <tbody>\n",
       "    <tr>\n",
       "      <th>0</th>\n",
       "      <td>-0.888762</td>\n",
       "      <td>-0.194652</td>\n",
       "      <td>-0.716404</td>\n",
       "      <td>-0.437019</td>\n",
       "      <td>1.115158</td>\n",
       "      <td>-0.900694</td>\n",
       "      <td>0.670152</td>\n",
       "      <td>-1.051032</td>\n",
       "      <td>0.929891</td>\n",
       "      <td>-0.678852</td>\n",
       "      <td>0</td>\n",
       "      <td>1</td>\n",
       "      <td>0</td>\n",
       "      <td>0</td>\n",
       "      <td>1</td>\n",
       "      <td>0</td>\n",
       "      <td>0</td>\n",
       "      <td>0</td>\n",
       "      <td>0</td>\n",
       "      <td>1</td>\n",
       "    </tr>\n",
       "    <tr>\n",
       "      <th>1</th>\n",
       "      <td>0.727169</td>\n",
       "      <td>-1.252825</td>\n",
       "      <td>-0.716404</td>\n",
       "      <td>-0.437019</td>\n",
       "      <td>-0.667915</td>\n",
       "      <td>0.526148</td>\n",
       "      <td>-1.483908</td>\n",
       "      <td>-0.086892</td>\n",
       "      <td>0.386007</td>\n",
       "      <td>-0.678852</td>\n",
       "      <td>0</td>\n",
       "      <td>1</td>\n",
       "      <td>0</td>\n",
       "      <td>0</td>\n",
       "      <td>0</td>\n",
       "      <td>1</td>\n",
       "      <td>0</td>\n",
       "      <td>1</td>\n",
       "      <td>0</td>\n",
       "      <td>0</td>\n",
       "    </tr>\n",
       "    <tr>\n",
       "      <th>2</th>\n",
       "      <td>-0.888762</td>\n",
       "      <td>-0.371014</td>\n",
       "      <td>2.378462</td>\n",
       "      <td>-0.437019</td>\n",
       "      <td>1.039283</td>\n",
       "      <td>-0.900694</td>\n",
       "      <td>0.670152</td>\n",
       "      <td>2.377024</td>\n",
       "      <td>0.567302</td>\n",
       "      <td>1.464891</td>\n",
       "      <td>0</td>\n",
       "      <td>1</td>\n",
       "      <td>0</td>\n",
       "      <td>0</td>\n",
       "      <td>0</td>\n",
       "      <td>0</td>\n",
       "      <td>1</td>\n",
       "      <td>0</td>\n",
       "      <td>0</td>\n",
       "      <td>1</td>\n",
       "    </tr>\n",
       "    <tr>\n",
       "      <th>3</th>\n",
       "      <td>-0.888762</td>\n",
       "      <td>1.216246</td>\n",
       "      <td>-0.716404</td>\n",
       "      <td>-0.437019</td>\n",
       "      <td>-0.497195</td>\n",
       "      <td>-0.900694</td>\n",
       "      <td>0.670152</td>\n",
       "      <td>-1.586666</td>\n",
       "      <td>1.428452</td>\n",
       "      <td>-0.678852</td>\n",
       "      <td>0</td>\n",
       "      <td>0</td>\n",
       "      <td>1</td>\n",
       "      <td>0</td>\n",
       "      <td>0</td>\n",
       "      <td>0</td>\n",
       "      <td>1</td>\n",
       "      <td>1</td>\n",
       "      <td>0</td>\n",
       "      <td>0</td>\n",
       "    </tr>\n",
       "    <tr>\n",
       "      <th>4</th>\n",
       "      <td>2.343100</td>\n",
       "      <td>2.744719</td>\n",
       "      <td>-0.716404</td>\n",
       "      <td>-0.437019</td>\n",
       "      <td>0.394342</td>\n",
       "      <td>2.844768</td>\n",
       "      <td>0.670152</td>\n",
       "      <td>0.448742</td>\n",
       "      <td>-0.203201</td>\n",
       "      <td>-0.678852</td>\n",
       "      <td>0</td>\n",
       "      <td>0</td>\n",
       "      <td>1</td>\n",
       "      <td>1</td>\n",
       "      <td>0</td>\n",
       "      <td>0</td>\n",
       "      <td>0</td>\n",
       "      <td>0</td>\n",
       "      <td>0</td>\n",
       "      <td>1</td>\n",
       "    </tr>\n",
       "  </tbody>\n",
       "</table>\n",
       "</div>"
      ],
      "text/plain": [
       "   slope_of_peak_exercise_st_segment  resting_blood_pressure  \\\n",
       "0                          -0.888762               -0.194652   \n",
       "1                           0.727169               -1.252825   \n",
       "2                          -0.888762               -0.371014   \n",
       "3                          -0.888762                1.216246   \n",
       "4                           2.343100                2.744719   \n",
       "\n",
       "   num_major_vessels  fasting_blood_sugar_gt_120_mg_per_dl  \\\n",
       "0          -0.716404                             -0.437019   \n",
       "1          -0.716404                             -0.437019   \n",
       "2           2.378462                             -0.437019   \n",
       "3          -0.716404                             -0.437019   \n",
       "4          -0.716404                             -0.437019   \n",
       "\n",
       "   serum_cholesterol_mg_per_dl  oldpeak_eq_st_depression       sex       age  \\\n",
       "0                     1.115158                 -0.900694  0.670152 -1.051032   \n",
       "1                    -0.667915                  0.526148 -1.483908 -0.086892   \n",
       "2                     1.039283                 -0.900694  0.670152  2.377024   \n",
       "3                    -0.497195                 -0.900694  0.670152 -1.586666   \n",
       "4                     0.394342                  2.844768  0.670152  0.448742   \n",
       "\n",
       "   max_heart_rate_achieved  exercise_induced_angina  thal_fixed_defect  \\\n",
       "0                 0.929891                -0.678852                  0   \n",
       "1                 0.386007                -0.678852                  0   \n",
       "2                 0.567302                 1.464891                  0   \n",
       "3                 1.428452                -0.678852                  0   \n",
       "4                -0.203201                -0.678852                  0   \n",
       "\n",
       "   thal_normal  thal_reversible_defect  chest_pain_type_1  chest_pain_type_2  \\\n",
       "0            1                       0                  0                  1   \n",
       "1            1                       0                  0                  0   \n",
       "2            1                       0                  0                  0   \n",
       "3            0                       1                  0                  0   \n",
       "4            0                       1                  1                  0   \n",
       "\n",
       "   chest_pain_type_3  chest_pain_type_4  resting_ekg_results_0  \\\n",
       "0                  0                  0                      0   \n",
       "1                  1                  0                      1   \n",
       "2                  0                  1                      0   \n",
       "3                  0                  1                      1   \n",
       "4                  0                  0                      0   \n",
       "\n",
       "   resting_ekg_results_1  resting_ekg_results_2  \n",
       "0                      0                      1  \n",
       "1                      0                      0  \n",
       "2                      0                      1  \n",
       "3                      0                      0  \n",
       "4                      0                      1  "
      ]
     },
     "execution_count": 33,
     "metadata": {},
     "output_type": "execute_result"
    }
   ],
   "source": [
    "train_labels = pd.read_csv('train_labels.csv')\n",
    "train_values = pd.read_csv('train_values.csv')\n",
    "\n",
    "train = train_values.drop('patient_id', axis=1)\n",
    "train = convert_columns(train, cols=['chest_pain_type', 'resting_ekg_results'])\n",
    "train = pre_process_data(train)\n",
    "train.head()"
   ]
  },
  {
   "cell_type": "code",
   "execution_count": 43,
   "metadata": {
    "scrolled": false
   },
   "outputs": [
    {
     "name": "stdout",
     "output_type": "stream",
     "text": [
      "slope_of_peak_exercise_st_segment         int64\n",
      "thal                                     object\n",
      "resting_blood_pressure                    int64\n",
      "chest_pain_type                          object\n",
      "num_major_vessels                         int64\n",
      "fasting_blood_sugar_gt_120_mg_per_dl      int64\n",
      "resting_ekg_results                      object\n",
      "serum_cholesterol_mg_per_dl               int64\n",
      "oldpeak_eq_st_depression                float64\n",
      "sex                                       int64\n",
      "age                                       int64\n",
      "max_heart_rate_achieved                   int64\n",
      "exercise_induced_angina                   int64\n",
      "dtype: object\n"
     ]
    }
   ],
   "source": [
    "train_values = pd.read_csv('train_values.csv')\n",
    "train2 = train_values.drop('patient_id', axis=1)\n",
    "train2 = convert_columns(train2, cols=['chest_pain_type', 'resting_ekg_results'])\n",
    "print train2.dtypes\n",
    "# train2= train2.astype('float64')\n",
    "#train2 = pre_process_data2(train2)"
   ]
  },
  {
   "cell_type": "markdown",
   "metadata": {},
   "source": [
    "# SVM"
   ]
  },
  {
   "cell_type": "code",
   "execution_count": 9,
   "metadata": {
    "scrolled": false
   },
   "outputs": [
    {
     "name": "stdout",
     "output_type": "stream",
     "text": [
      "Input shape:\t(90, 13)\n",
      "After standardization (90, 13)\n",
      "After converting categoricals:\t(90, 20)\n"
     ]
    },
    {
     "name": "stderr",
     "output_type": "stream",
     "text": [
      "/Users/Luna/anaconda/lib/python2.7/site-packages/ipykernel_launcher.py:18: FutureWarning: Method .as_matrix will be removed in a future version. Use .values instead.\n",
      "/Users/Luna/anaconda/lib/python2.7/site-packages/sklearn/utils/validation.py:578: DataConversionWarning: A column-vector y was passed when a 1d array was expected. Please change the shape of y to (n_samples, ), for example using ravel().\n",
      "  y = column_or_1d(y, warn=True)\n"
     ]
    }
   ],
   "source": [
    "def SVC(train_values, train_labels, C=1.0, kernel='rbf', degree=3, gamma='auto', coef0=0.0, shrinking=True, probability=True, tol=0.001, cache_size=200, class_weight=None, verbose=False, max_iter=-1, decision_function_shape='ovr', random_state=None):\n",
    "    \n",
    "    from sklearn import datasets, svm, metrics\n",
    "\n",
    "    # Create a classifier: a support vector classifier\n",
    "    classifier = svm.SVC(C=C, kernel=kernel, degree=degree, gamma=gamma, coef0=coef0, shrinking=shrinking, probability=probability, tol=tol, cache_size=cache_size, class_weight=class_weight, verbose=verbose, max_iter=max_iter, decision_function_shape=decision_function_shape, random_state=random_state)\n",
    "    \n",
    "    classifier.fit(train_values, train_labels)\n",
    "    # predicted = classifier.predict(train)\n",
    "    return classifier\n",
    "\n",
    "def prepare_submission(model, test, fname='submission.sv'):\n",
    "    probs = model.predict_proba(test)\n",
    "    sub = pd.DataFrame(np.vstack([test_patient_id, probs[:,1]]).T)\n",
    "    sub.to_csv(fname, sep=',', header=['patient_id','heart_disease_present'], index=False)\n",
    "\n",
    "test = pd.read_csv('test_values.csv')\n",
    "test_patient_id = test['patient_id'].as_matrix()\n",
    "test = test.drop('patient_id', axis=1)\n",
    "test = convert_columns(test, cols=['chest_pain_type', 'resting_ekg_results'])\n",
    "test = pre_process_data(test)\n",
    "\n",
    "train_labels2 = train_labels.drop('patient_id', axis=1)\n",
    "\n",
    "model_svc = SVC(train, train_labels2)\n",
    "prepare_submission(model_svc, test, 'SVC_jpoh_1.csv')"
   ]
  },
  {
   "cell_type": "code",
   "execution_count": 10,
   "metadata": {},
   "outputs": [
    {
     "name": "stdout",
     "output_type": "stream",
     "text": [
      "(135, 20) (45, 20) (45, 1)\n"
     ]
    }
   ],
   "source": [
    "\n",
    "train1, train2, labels1, labels2 = train_test_split(train, train_labels2, train_size=0.75, test_size=0.25, shuffle=True)\n",
    "print train1.shape, train2.shape, labels2.shape"
   ]
  },
  {
   "cell_type": "code",
   "execution_count": 18,
   "metadata": {
    "scrolled": false
   },
   "outputs": [
    {
     "data": {
      "image/png": "[encoded data removed]",
      "text/plain": [
       "<Figure size 576x576 with 1 Axes>"
      ]
     },
     "metadata": {},
     "output_type": "display_data"
    },
    {
     "data": {
      "image/png": "[encoded data removed]",
      "text/plain": [
       "<Figure size 576x576 with 1 Axes>"
      ]
     },
     "metadata": {},
     "output_type": "display_data"
    }
   ],
   "source": [
    "from sklearn.metrics import roc_curve\n",
    "from astroML.plotting import setup_text_plots\n",
    "setup_text_plots(fontsize=16, usetex=True)\n",
    "\n",
    "\n",
    "def plot_results(labels, probs, thresh=0.5):\n",
    "    plt.figure(figsize=(8,8))\n",
    "    plt.scatter(labels, probs[:,1], edgecolor='none', c='cornflowerblue', s=40, alpha=0.5)\n",
    "    plt.axhline(thresh, c='grey', alpha=0.2, lw=2, zorder=0, ls='--')\n",
    "    plt.xlabel('True Classification')\n",
    "    plt.ylabel('Model Probability')\n",
    "    plt.title('log loss = %.2f'%log_loss(labels, probs))\n",
    "    plt.xticks([0,1])\n",
    "    plt.xlim(-0.5, 1.5)\n",
    "    plt.show()\n",
    "    \n",
    "    fpr, tpr, thresh = roc_curve(labels2, probs[:,1])\n",
    "    \n",
    "    plt.figure(figsize=(8,8))\n",
    "    plt.plot(fpr, tpr, 'cornflowerblue', lw=3)\n",
    "    plt.xlabel('False Positives')\n",
    "    plt.ylabel('True Positives')\n",
    "    plt.title('ROC Curve')\n",
    "    plt.xlim(-0.1,1.1)\n",
    "    plt.ylim(-0.1,1.1)\n",
    "    plt.grid()\n",
    "    plt.show()\n",
    "    \n",
    "model_svc = SVC(train1, labels1)\n",
    "probs = model_svc.predict_proba(train2)\n",
    "plot_results(labels2, probs)"
   ]
  },
  {
   "cell_type": "markdown",
   "metadata": {},
   "source": [
    "# SVM with grid search CV"
   ]
  },
  {
   "cell_type": "code",
   "execution_count": 21,
   "metadata": {},
   "outputs": [],
   "source": [
    "# After finetuning the grid\n",
    "params = {'C':[0.15,0.016,0.17,0.18,0.19], 'gamma':[0.06,0.07,0.08,0.09,0.1],'coef0':[0.4,0.45,0.5,0.55,0.6,0.65,0.7]}\n",
    "\n",
    "from sklearn import svm, metrics\n",
    "SVC_class = svm.SVC(kernel='sigmoid', decision_function_shape='ovr', probability=True)\n",
    "\n",
    "# from sklearn.model_selection import GridSearchCV\n",
    "# SVC_gs = GridSearchCV(SVC_class, params, cv=10, return_train_score=True)\n",
    "# SVC_gs.fit(train, train_labels2)\n",
    "\n",
    "# print 'Best params: ', SVC_gs.best_params_\n",
    "# print 'Best accuracy: %.2f' %(SVC_gs.best_score_ * 100)"
   ]
  },
  {
   "cell_type": "code",
   "execution_count": 25,
   "metadata": {},
   "outputs": [
    {
     "data": {
      "image/png": "[encoded data removed]",
      "text/plain": [
       "<Figure size 576x576 with 1 Axes>"
      ]
     },
     "metadata": {},
     "output_type": "display_data"
    },
    {
     "data": {
      "image/png": "[encoded data removed]",
      "text/plain": [
       "<Figure size 576x576 with 1 Axes>"
      ]
     },
     "metadata": {},
     "output_type": "display_data"
    }
   ],
   "source": [
    "from sklearn import svm, metrics\n",
    "model_svc_gs = SVC(train1, labels1, C= 0.17, coef0= 0.6, gamma= 0.08, kernel='sigmoid', decision_function_shape='ovr')\n",
    "probs_gs = model_svc_gs.predict_proba(train2)\n",
    "plot_results(labels2, probs_gs)"
   ]
  },
  {
   "cell_type": "code",
   "execution_count": 62,
   "metadata": {},
   "outputs": [],
   "source": [
    "best_SVC = SVC_gs.best_estimator_\n",
    "prepare_submission(best_SVC, test, fname='SVC_jpoh_gs.csv')"
   ]
  },
  {
   "cell_type": "code",
   "execution_count": 20,
   "metadata": {},
   "outputs": [
    {
     "name": "stdout",
     "output_type": "stream",
     "text": [
      "[0.001      0.00119378 0.0014251  0.00170125 0.00203092 0.00242446\n",
      " 0.00289427 0.00345511 0.00412463 0.00492388 0.00587802 0.00701704\n",
      " 0.00837678 0.01       0.01193777 0.01425103 0.01701254 0.02030918\n",
      " 0.02424462 0.02894266 0.03455107 0.04124626 0.04923883 0.05878016\n",
      " 0.07017038 0.08376776 0.1        0.11937766 0.14251027 0.17012543\n",
      " 0.20309176 0.2424462  0.28942661 0.34551073 0.41246264 0.49238826\n",
      " 0.58780161 0.70170383 0.83767764 1.        ]\n",
      "Best params:  {'C': 0.8376776400682924, 'gamma': 0.04124626382901352}\n",
      "Best accuracy: 85.00\n"
     ]
    }
   ],
   "source": [
    "# After finetuning the grid\n",
    "C_range = 10.0**(np.linspace(-3,0,40))\n",
    "gamma_range = 10.0**(np.linspace(-3,0,40))\n",
    "print C_range\n",
    "params = {'C':C_range, 'gamma':gamma_range}\n",
    "\n",
    "from sklearn import svm, metrics \n",
    "SVC_class = svm.SVC(kernel='rbf', decision_function_shape='ovr', probability=True)\n",
    "\n",
    "from sklearn.model_selection import GridSearchCV\n",
    "SVC_gs = GridSearchCV(SVC_class, params, cv=30, return_train_score=True)\n",
    "SVC_gs.fit(train, train_labels2)\n",
    "\n",
    "print 'Best params: ', SVC_gs.best_params_\n",
    "print 'Best accuracy: %.2f' %(SVC_gs.best_score_ * 100)"
   ]
  },
  {
   "cell_type": "code",
   "execution_count": 21,
   "metadata": {},
   "outputs": [
    {
     "data": {
      "image/png": "[encoded data removed]",
      "text/plain": [
       "<Figure size 576x576 with 1 Axes>"
      ]
     },
     "metadata": {},
     "output_type": "display_data"
    },
    {
     "data": {
      "image/png": "[encoded data removed]",
      "text/plain": [
       "<Figure size 576x576 with 1 Axes>"
      ]
     },
     "metadata": {},
     "output_type": "display_data"
    }
   ],
   "source": [
    "model_svc_gs = SVC(train1, labels1,C= 0.8376776400682924, gamma= 0.04124626382901352, kernel='rbf', decision_function_shape='ovr')\n",
    "probs_gs = model_svc_gs.predict_proba(train2)\n",
    "plot_results(labels2, probs_gs)"
   ]
  },
  {
   "cell_type": "code",
   "execution_count": 22,
   "metadata": {},
   "outputs": [],
   "source": [
    "best_SVC = SVC_gs.best_estimator_\n",
    "prepare_submission(best_SVC, test, fname='SVC_jpoh_gs_30.csv')"
   ]
  },
  {
   "cell_type": "code",
   "execution_count": 27,
   "metadata": {},
   "outputs": [
    {
     "name": "stdout",
     "output_type": "stream",
     "text": [
      "Best params:  {'C': 0.15263157894736842, 'coef0': 1.0, 'gamma': 0.09368421052631579}\n",
      "Best accuracy: 85.00\n"
     ]
    }
   ],
   "source": [
    "# After finetuning the grid\n",
    "C_range = np.linspace(0.1,0.3,20)\n",
    "gamma_range = np.linspace(0.04,0.1,20)\n",
    "coef0_range = np.linspace(0,1,10)\n",
    "\n",
    "params = {'C':C_range, 'gamma':gamma_range, 'coef0':coef0_range}\n",
    "\n",
    "from sklearn import svm, metrics \n",
    "SVC_class = svm.SVC(kernel='sigmoid', decision_function_shape='ovr', probability=True)\n",
    "\n",
    "from sklearn.model_selection import GridSearchCV\n",
    "SVC_gs = GridSearchCV(SVC_class, params, cv=30, return_train_score=True)\n",
    "SVC_gs.fit(train, train_labels2)\n",
    "\n",
    "print 'Best params: ', SVC_gs.best_params_\n",
    "print 'Best accuracy: %.2f' %(SVC_gs.best_score_ * 100)\n",
    "\n",
    "# Best params:  {'C': 0.1623776739188721, 'coef0': 0.5263157894736832, 'gamma': 0.07847599703514611}\n",
    "# Best accuracy: 85.56"
   ]
  },
  {
   "cell_type": "code",
   "execution_count": 28,
   "metadata": {},
   "outputs": [],
   "source": [
    "best_SVC = SVC_gs.best_estimator_\n",
    "prepare_submission(best_SVC, test, fname='SVC_jpoh_gs_30_sigmoid.csv')"
   ]
  },
  {
   "cell_type": "code",
   "execution_count": 29,
   "metadata": {},
   "outputs": [
    {
     "name": "stdout",
     "output_type": "stream",
     "text": [
      "Best params:  {'C': 0.1842105263157895}\n",
      "Best accuracy: 84.44\n"
     ]
    }
   ],
   "source": [
    "# After finetuning the grid\n",
    "C_range = np.linspace(0.1,0.3,20)\n",
    "gamma_range = np.linspace(0.04,0.1,20)\n",
    "coef0_range = np.linspace(0,1,10)\n",
    "\n",
    "params = {'C':C_range}\n",
    "\n",
    "from sklearn import svm, metrics \n",
    "SVC_class = svm.SVC(kernel='linear', decision_function_shape='ovo', probability=True)\n",
    "\n",
    "from sklearn.model_selection import GridSearchCV\n",
    "log_loss_scorer = make_scorer(log_loss, greater_is_better=False, needs_proba=True, needs_threshold=False) \n",
    "SVC_gs = GridSearchCV(SVC_class, params, cv=10, return_train_score=True, scoring=log_loss_scorer)\n",
    "SVC_gs.fit(train, train_labels2)\n",
    "\n",
    "print 'Best params: ', SVC_gs.best_params_\n",
    "print 'Best accuracy: %.2f' %(SVC_gs.best_score_ * 100)"
   ]
  },
  {
   "cell_type": "code",
   "execution_count": null,
   "metadata": {},
   "outputs": [],
   "source": []
  }
 ],
 "metadata": {
  "kernelspec": {
   "display_name": "Python 2",
   "language": "python",
   "name": "python2"
  },
  "language_info": {
   "codemirror_mode": {
    "name": "ipython",
    "version": 2
   },
   "file_extension": ".py",
   "mimetype": "text/x-python",
   "name": "python",
   "nbconvert_exporter": "python",
   "pygments_lexer": "ipython2",
   "version": "2.7.14"
  }
 },
 "nbformat": 4,
 "nbformat_minor": 2
}
