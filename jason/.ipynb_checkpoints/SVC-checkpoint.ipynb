{
 "cells": [
  {
   "cell_type": "code",
   "execution_count": 1,
   "metadata": {},
   "outputs": [],
   "source": [
    "%matplotlib inline\n",
    "import numpy as np\n",
    "import sklearn as sk\n",
    "import matplotlib.pyplot as plt\n",
    "import scipy as sp\n",
    "import pandas as pd\n",
    "from sklearn.metrics import log_loss\n",
    "from sklearn.model_selection import train_test_split\n",
    "from sklearn.model_selection import cross_val_score\n",
    "from sklearn.metrics import roc_curve\n",
    "from sklearn.model_selection import GridSearchCV\n",
    "\n",
    "def convert_columns(df, cols=[]):\n",
    "    for col in cols:\n",
    "        df[col] = df[col].astype(str)\n",
    "    return df\n",
    "        \n",
    "def standardize(df, numeric_only=True):\n",
    "    numeric = df.select_dtypes(include=['int64', 'float64'])\n",
    "    \n",
    "    # subtracy mean and divide by std\n",
    "    df[numeric.columns] = (numeric - numeric.mean()) / numeric.std()\n",
    "    \n",
    "    return df\n",
    "\n",
    "def pre_process_data(df, enforce_cols=None):\n",
    "    print(\"Input shape:\\t{}\".format(df.shape))\n",
    "        \n",
    "\n",
    "    df = standardize(df)\n",
    "    print(\"After standardization {}\".format(df.shape))\n",
    "        \n",
    "    # create dummy variables for categoricals\n",
    "    df = pd.get_dummies(df)\n",
    "    print(\"After converting categoricals:\\t{}\".format(df.shape))\n",
    "    \n",
    "\n",
    "    # match test set and training set columns\n",
    "    if enforce_cols is not None:\n",
    "        to_drop = np.setdiff1d(df.columns, enforce_cols)\n",
    "        to_add = np.setdiff1d(enforce_cols, df.columns)\n",
    "\n",
    "        df.drop(to_drop, axis=1, inplace=True)\n",
    "        df = df.assign(**{c: 0 for c in to_add})\n",
    "    \n",
    "    df.fillna(0, inplace=True)\n",
    "    \n",
    "    return df\n",
    "\n",
    "def pairwise_plots(train_values, train_labels):\n",
    "    train_c = train_values.join(train_labels['heart_disease_present'])\n",
    "\n",
    "    import seaborn as sns\n",
    "    sns.pairplot(train_c, hue='heart_disease_present', diag_kind = 'kde')\n",
    "######################"
   ]
  },
  {
   "cell_type": "markdown",
   "metadata": {},
   "source": [
    "# Import Data, Convert Tables"
   ]
  },
  {
   "cell_type": "code",
   "execution_count": 12,
   "metadata": {},
   "outputs": [
    {
     "name": "stdout",
     "output_type": "stream",
     "text": [
      "Input shape:\t(180, 13)\n",
      "After standardization (180, 13)\n",
      "After converting categoricals:\t(180, 20)\n"
     ]
    },
    {
     "data": {
      "text/html": [
       "<div>\n",
       "<style scoped>\n",
       "    .dataframe tbody tr th:only-of-type {\n",
       "        vertical-align: middle;\n",
       "    }\n",
       "\n",
       "    .dataframe tbody tr th {\n",
       "        vertical-align: top;\n",
       "    }\n",
       "\n",
       "    .dataframe thead th {\n",
       "        text-align: right;\n",
       "    }\n",
       "</style>\n",
       "<table border=\"1\" class=\"dataframe\">\n",
       "  <thead>\n",
       "    <tr style=\"text-align: right;\">\n",
       "      <th></th>\n",
       "      <th>slope_of_peak_exercise_st_segment</th>\n",
       "      <th>resting_blood_pressure</th>\n",
       "      <th>num_major_vessels</th>\n",
       "      <th>fasting_blood_sugar_gt_120_mg_per_dl</th>\n",
       "      <th>serum_cholesterol_mg_per_dl</th>\n",
       "      <th>oldpeak_eq_st_depression</th>\n",
       "      <th>sex</th>\n",
       "      <th>age</th>\n",
       "      <th>max_heart_rate_achieved</th>\n",
       "      <th>exercise_induced_angina</th>\n",
       "      <th>thal_fixed_defect</th>\n",
       "      <th>thal_normal</th>\n",
       "      <th>thal_reversible_defect</th>\n",
       "      <th>chest_pain_type_1</th>\n",
       "      <th>chest_pain_type_2</th>\n",
       "      <th>chest_pain_type_3</th>\n",
       "      <th>chest_pain_type_4</th>\n",
       "      <th>resting_ekg_results_0</th>\n",
       "      <th>resting_ekg_results_1</th>\n",
       "      <th>resting_ekg_results_2</th>\n",
       "    </tr>\n",
       "  </thead>\n",
       "  <tbody>\n",
       "    <tr>\n",
       "      <th>0</th>\n",
       "      <td>-0.888762</td>\n",
       "      <td>-0.194652</td>\n",
       "      <td>-0.716404</td>\n",
       "      <td>-0.437019</td>\n",
       "      <td>1.115158</td>\n",
       "      <td>-0.900694</td>\n",
       "      <td>0.670152</td>\n",
       "      <td>-1.051032</td>\n",
       "      <td>0.929891</td>\n",
       "      <td>-0.678852</td>\n",
       "      <td>0</td>\n",
       "      <td>1</td>\n",
       "      <td>0</td>\n",
       "      <td>0</td>\n",
       "      <td>1</td>\n",
       "      <td>0</td>\n",
       "      <td>0</td>\n",
       "      <td>0</td>\n",
       "      <td>0</td>\n",
       "      <td>1</td>\n",
       "    </tr>\n",
       "    <tr>\n",
       "      <th>1</th>\n",
       "      <td>0.727169</td>\n",
       "      <td>-1.252825</td>\n",
       "      <td>-0.716404</td>\n",
       "      <td>-0.437019</td>\n",
       "      <td>-0.667915</td>\n",
       "      <td>0.526148</td>\n",
       "      <td>-1.483908</td>\n",
       "      <td>-0.086892</td>\n",
       "      <td>0.386007</td>\n",
       "      <td>-0.678852</td>\n",
       "      <td>0</td>\n",
       "      <td>1</td>\n",
       "      <td>0</td>\n",
       "      <td>0</td>\n",
       "      <td>0</td>\n",
       "      <td>1</td>\n",
       "      <td>0</td>\n",
       "      <td>1</td>\n",
       "      <td>0</td>\n",
       "      <td>0</td>\n",
       "    </tr>\n",
       "    <tr>\n",
       "      <th>2</th>\n",
       "      <td>-0.888762</td>\n",
       "      <td>-0.371014</td>\n",
       "      <td>2.378462</td>\n",
       "      <td>-0.437019</td>\n",
       "      <td>1.039283</td>\n",
       "      <td>-0.900694</td>\n",
       "      <td>0.670152</td>\n",
       "      <td>2.377024</td>\n",
       "      <td>0.567302</td>\n",
       "      <td>1.464891</td>\n",
       "      <td>0</td>\n",
       "      <td>1</td>\n",
       "      <td>0</td>\n",
       "      <td>0</td>\n",
       "      <td>0</td>\n",
       "      <td>0</td>\n",
       "      <td>1</td>\n",
       "      <td>0</td>\n",
       "      <td>0</td>\n",
       "      <td>1</td>\n",
       "    </tr>\n",
       "    <tr>\n",
       "      <th>3</th>\n",
       "      <td>-0.888762</td>\n",
       "      <td>1.216246</td>\n",
       "      <td>-0.716404</td>\n",
       "      <td>-0.437019</td>\n",
       "      <td>-0.497195</td>\n",
       "      <td>-0.900694</td>\n",
       "      <td>0.670152</td>\n",
       "      <td>-1.586666</td>\n",
       "      <td>1.428452</td>\n",
       "      <td>-0.678852</td>\n",
       "      <td>0</td>\n",
       "      <td>0</td>\n",
       "      <td>1</td>\n",
       "      <td>0</td>\n",
       "      <td>0</td>\n",
       "      <td>0</td>\n",
       "      <td>1</td>\n",
       "      <td>1</td>\n",
       "      <td>0</td>\n",
       "      <td>0</td>\n",
       "    </tr>\n",
       "    <tr>\n",
       "      <th>4</th>\n",
       "      <td>2.343100</td>\n",
       "      <td>2.744719</td>\n",
       "      <td>-0.716404</td>\n",
       "      <td>-0.437019</td>\n",
       "      <td>0.394342</td>\n",
       "      <td>2.844768</td>\n",
       "      <td>0.670152</td>\n",
       "      <td>0.448742</td>\n",
       "      <td>-0.203201</td>\n",
       "      <td>-0.678852</td>\n",
       "      <td>0</td>\n",
       "      <td>0</td>\n",
       "      <td>1</td>\n",
       "      <td>1</td>\n",
       "      <td>0</td>\n",
       "      <td>0</td>\n",
       "      <td>0</td>\n",
       "      <td>0</td>\n",
       "      <td>0</td>\n",
       "      <td>1</td>\n",
       "    </tr>\n",
       "  </tbody>\n",
       "</table>\n",
       "</div>"
      ],
      "text/plain": [
       "   slope_of_peak_exercise_st_segment  resting_blood_pressure  \\\n",
       "0                          -0.888762               -0.194652   \n",
       "1                           0.727169               -1.252825   \n",
       "2                          -0.888762               -0.371014   \n",
       "3                          -0.888762                1.216246   \n",
       "4                           2.343100                2.744719   \n",
       "\n",
       "   num_major_vessels  fasting_blood_sugar_gt_120_mg_per_dl  \\\n",
       "0          -0.716404                             -0.437019   \n",
       "1          -0.716404                             -0.437019   \n",
       "2           2.378462                             -0.437019   \n",
       "3          -0.716404                             -0.437019   \n",
       "4          -0.716404                             -0.437019   \n",
       "\n",
       "   serum_cholesterol_mg_per_dl  oldpeak_eq_st_depression       sex       age  \\\n",
       "0                     1.115158                 -0.900694  0.670152 -1.051032   \n",
       "1                    -0.667915                  0.526148 -1.483908 -0.086892   \n",
       "2                     1.039283                 -0.900694  0.670152  2.377024   \n",
       "3                    -0.497195                 -0.900694  0.670152 -1.586666   \n",
       "4                     0.394342                  2.844768  0.670152  0.448742   \n",
       "\n",
       "   max_heart_rate_achieved  exercise_induced_angina  thal_fixed_defect  \\\n",
       "0                 0.929891                -0.678852                  0   \n",
       "1                 0.386007                -0.678852                  0   \n",
       "2                 0.567302                 1.464891                  0   \n",
       "3                 1.428452                -0.678852                  0   \n",
       "4                -0.203201                -0.678852                  0   \n",
       "\n",
       "   thal_normal  thal_reversible_defect  chest_pain_type_1  chest_pain_type_2  \\\n",
       "0            1                       0                  0                  1   \n",
       "1            1                       0                  0                  0   \n",
       "2            1                       0                  0                  0   \n",
       "3            0                       1                  0                  0   \n",
       "4            0                       1                  1                  0   \n",
       "\n",
       "   chest_pain_type_3  chest_pain_type_4  resting_ekg_results_0  \\\n",
       "0                  0                  0                      0   \n",
       "1                  1                  0                      1   \n",
       "2                  0                  1                      0   \n",
       "3                  0                  1                      1   \n",
       "4                  0                  0                      0   \n",
       "\n",
       "   resting_ekg_results_1  resting_ekg_results_2  \n",
       "0                      0                      1  \n",
       "1                      0                      0  \n",
       "2                      0                      1  \n",
       "3                      0                      0  \n",
       "4                      0                      1  "
      ]
     },
     "execution_count": 12,
     "metadata": {},
     "output_type": "execute_result"
    }
   ],
   "source": [
    "train_labels = pd.read_csv('train_labels.csv')\n",
    "train_values = pd.read_csv('train_values.csv')\n",
    "\n",
    "train = train_values.drop('patient_id', axis=1)\n",
    "train = convert_columns(train, cols=['chest_pain_type', 'resting_ekg_results'])\n",
    "train = pre_process_data(train)\n",
    "train.head()"
   ]
  },
  {
   "cell_type": "code",
   "execution_count": 19,
   "metadata": {
    "scrolled": true
   },
   "outputs": [],
   "source": [
    "# pairwise_plots(train, train_labels)"
   ]
  },
  {
   "cell_type": "markdown",
   "metadata": {},
   "source": [
    "# SVM"
   ]
  },
  {
   "cell_type": "code",
   "execution_count": 21,
   "metadata": {
    "scrolled": false
   },
   "outputs": [
    {
     "name": "stdout",
     "output_type": "stream",
     "text": [
      "Input shape:\t(90, 13)\n",
      "After standardization (90, 13)\n",
      "After converting categoricals:\t(90, 20)\n"
     ]
    },
    {
     "name": "stderr",
     "output_type": "stream",
     "text": [
      "/Users/Luna/anaconda/lib/python2.7/site-packages/ipykernel_launcher.py:18: FutureWarning: Method .as_matrix will be removed in a future version. Use .values instead.\n"
     ]
    }
   ],
   "source": [
    "def SVC(train_values, train_labels, C=1.0, kernel='rbf', degree=3, gamma='auto', coef0=0.0, shrinking=True, probability=True, tol=0.001, cache_size=200, class_weight=None, verbose=False, max_iter=-1, decision_function_shape='ovr', random_state=None):\n",
    "    \n",
    "    from sklearn import datasets, svm, metrics\n",
    "\n",
    "    # Create a classifier: a support vector classifier\n",
    "    classifier = svm.SVC(C=C, kernel=kernel, degree=degree, gamma=gamma, coef0=coef0, shrinking=shrinking, probability=probability, tol=tol, cache_size=cache_size, class_weight=class_weight, verbose=verbose, max_iter=max_iter, decision_function_shape=decision_function_shape, random_state=random_state)\n",
    "    \n",
    "    classifier.fit(train_values, train_labels)\n",
    "    # predicted = classifier.predict(train)\n",
    "    return classifier\n",
    "\n",
    "def prepare_submission(model, test, fname='submission.sv'):\n",
    "    probs = model.predict_proba(test)\n",
    "    sub = pd.DataFrame(np.vstack([test_patient_id, probs[:,1]]).T)\n",
    "    sub.to_csv(fname, sep=',', header=['patient_id','heart_disease_present'], index=False)\n",
    "\n",
    "test = pd.read_csv('test_values.csv')\n",
    "test_patient_id = test['patient_id'].as_matrix()\n",
    "test = test.drop('patient_id', axis=1)\n",
    "test = convert_columns(test, cols=['chest_pain_type', 'resting_ekg_results'])\n",
    "test = pre_process_data(test)\n",
    "\n",
    "train_labels2 = train_labels.drop('patient_id', axis=1)\n",
    "\n",
    "model_svc = SVC(train, train_labels2)\n",
    "prepare_submission(model_svc, test, 'SVC_jpoh_1.csv')"
   ]
  },
  {
   "cell_type": "code",
   "execution_count": 5,
   "metadata": {},
   "outputs": [
    {
     "name": "stdout",
     "output_type": "stream",
     "text": [
      "(135, 20) (45, 20) (45, 1)\n"
     ]
    }
   ],
   "source": [
    "\n",
    "train1, train2, labels1, labels2 = train_test_split(train, train_labels2, train_size=0.75, test_size=0.25, shuffle=True)\n",
    "print train1.shape, train2.shape, labels2.shape"
   ]
  },
  {
   "cell_type": "code",
   "execution_count": 6,
   "metadata": {
    "scrolled": false
   },
   "outputs": [
    {
     "data": {
      "image/png": "[encoded data removed]",
      "text/plain": [
       "<Figure size 576x576 with 1 Axes>"
      ]
     },
     "metadata": {},
     "output_type": "display_data"
    },
    {
     "data": {
      "image/png": "[encoded data removed]",
      "text/plain": [
       "<Figure size 576x576 with 1 Axes>"
      ]
     },
     "metadata": {},
     "output_type": "display_data"
    }
   ],
   "source": [
    "from sklearn.metrics import roc_curve\n",
    "from astroML.plotting import setup_text_plots\n",
    "setup_text_plots(fontsize=16, usetex=True)\n",
    "\n",
    "\n",
    "def plot_results(labels, probs, thresh=0.5):\n",
    "    plt.figure(figsize=(8,8))\n",
    "    plt.scatter(labels, probs[:,1], edgecolor='none', c='cornflowerblue', s=40, alpha=0.5)\n",
    "    plt.axhline(thresh, c='grey', alpha=0.2, lw=2, zorder=0, ls='--')\n",
    "    plt.xlabel('True Classification')\n",
    "    plt.ylabel('Model Probability')\n",
    "    plt.title('log loss = %.2f'%log_loss(labels, probs))\n",
    "    plt.xticks([0,1])\n",
    "    plt.xlim(-0.5, 1.5)\n",
    "    plt.show()\n",
    "    \n",
    "    fpr, tpr, thresh = roc_curve(labels2, probs[:,1])\n",
    "    \n",
    "    plt.figure(figsize=(8,8))\n",
    "    plt.plot(fpr, tpr, 'cornflowerblue', lw=3)\n",
    "    plt.xlabel('False Positives')\n",
    "    plt.ylabel('True Positives')\n",
    "    plt.title('ROC Curve')\n",
    "    plt.xlim(-0.1,1.1)\n",
    "    plt.ylim(-0.1,1.1)\n",
    "    plt.grid()\n",
    "    plt.show()\n",
    "    \n",
    "model_svc = SVC(train1, labels1)\n",
    "probs = model_svc.predict_proba(train2)\n",
    "plot_results(labels2, probs)"
   ]
  },
  {
   "cell_type": "code",
   "execution_count": 30,
   "metadata": {},
   "outputs": [
    {
     "data": {
      "text/plain": [
       "GridSearchCV(cv=10, error_score='raise',\n",
       "       estimator=SVC(C=1.0, cache_size=200, class_weight=None, coef0=0.0,\n",
       "  decision_function_shape='ovr', degree=3, gamma='auto', kernel='rbf',\n",
       "  max_iter=-1, probability=False, random_state=None, shrinking=True,\n",
       "  tol=0.001, verbose=False),\n",
       "       fit_params=None, iid=True, n_jobs=1,\n",
       "       param_grid={'kernel': ['linear', 'poly', 'rbf', 'sigmoid'], 'C': [0.1, 0.2, 0.3, 0.4, 0.5, 0.6, 0.7, 0.8, 0.9, 1.0, 2.0], 'degree': [1, 2, 3, 4, 5], 'decision_function_shape': ['ovo', 'ovr'], 'coef0': [-1.0, 0.0, 1.0], 'gamma': [0, 0.001, 0.005, 0.01, 0.05, 0.1]},\n",
       "       pre_dispatch='2*n_jobs', refit=True, return_train_score=True,\n",
       "       scoring=None, verbose=0)"
      ]
     },
     "execution_count": 30,
     "metadata": {},
     "output_type": "execute_result"
    }
   ],
   "source": [
    "# class sklearn.model_selection.GridSearchCV(estimator, param_grid, scoring=None, fit_params=None, n_jobs=None, iid=’warn’, refit=True, cv=’warn’, verbose=0, pre_dispatch=‘2*n_jobs’, error_score=’raise-deprecating’, return_train_score=’warn’)[source]\n",
    "\n",
    "# class sklearn.linear_model.LogisticRegression(penalty=’l2’, dual=False, tol=0.0001, C=1.0, fit_intercept=True, intercept_scaling=1, class_weight=None, random_state=None, solver=’warn’, max_iter=100, multi_class=’warn’, verbose=0, warm_start=False, n_jobs=None)[source]¶\n",
    "\n",
    "# class sklearn.svm.SVC(C=1.0, kernel=’rbf’, degree=3, gamma=’auto_deprecated’, coef0=0.0, shrinking=True, probability=False, tol=0.001, cache_size=200, class_weight=None, verbose=False, max_iter=-1, decision_function_shape=’ovr’, random_state=None)[source]¶\n",
    "# kernel: ‘linear’, ‘poly’, ‘rbf’, ‘sigmoid’\n",
    "# gamma: ,1/10, 1/20, 1/40, 1/100 \n",
    "# C: 0.5, 1, 2\n",
    "# degree: 3, 4, 5\n",
    "# coeff: 0.0, 1.0, 2.0\n",
    "# decision_function_shape : ‘ovo’, ‘ovr’\n",
    "\n",
    "params = {'kernel':['linear','poly','rbf','sigmoid'], 'gamma':[0, 0.001, 0.005, 0.01, 0.05, 0.1], 'C':[0.1,0.2,0.3,0.4,0.5,0.6,0.7,0.8,0.9,1.0,2.0], 'coef0':[-1.0,0.0,1.0,2.0,3.0,4.0], 'decision_function_shape':['ovo','ovr']}\n",
    "\n",
    "from sklearn import svm, metrics\n",
    "SVC_class = svm.SVC()\n",
    "\n",
    "from sklearn.model_selection import GridSearchCV\n",
    "SVC_gs = GridSearchCV(SVC_class, params, cv=10, return_train_score=True)\n",
    "SVC_gs.fit(train, train_labels2)"
   ]
  },
  {
   "cell_type": "code",
   "execution_count": 31,
   "metadata": {},
   "outputs": [
    {
     "name": "stdout",
     "output_type": "stream",
     "text": [
      "Best params:  {'kernel': 'sigmoid', 'C': 0.2, 'degree': 1, 'decision_function_shape': 'ovo', 'coef0': 1.0, 'gamma': 0.1}\n",
      "Best accuracy: 85.00\n",
      "Best parameters:  {'kernel': 'sigmoid', 'C': 0.2, 'degree': 1, 'decision_function_shape': 'ovo', 'coef0': 1.0, 'gamma': 0.1}\n"
     ]
    }
   ],
   "source": [
    "print 'Best params: ', SVC_gs.best_params_\n",
    "best_SVC = SVC_gs.best_estimator_\n",
    "\n",
    "print 'Best accuracy: %.2f' %(SVC_gs.best_score_ * 100)\n",
    "\n",
    "#prepare_submission(SVC_gs, test, fname='submission_SVC_gs.csv')\n",
    "#sklearn.model_selection.check_cv"
   ]
  },
  {
   "cell_type": "code",
   "execution_count": null,
   "metadata": {},
   "outputs": [],
   "source": [
    "#83.3\n",
    "# Best parameters:  {'kernel': 'sigmoid', 'C': 0.2, 'degree': 1, 'decision_function_shape': 'ovo', 'coef0': 1.0, 'gamma': 0.1}\n",
    "#85.0"
   ]
  }
 ],
 "metadata": {
  "kernelspec": {
   "display_name": "Python 2",
   "language": "python",
   "name": "python2"
  },
  "language_info": {
   "codemirror_mode": {
    "name": "ipython",
    "version": 2
   },
   "file_extension": ".py",
   "mimetype": "text/x-python",
   "name": "python",
   "nbconvert_exporter": "python",
   "pygments_lexer": "ipython2",
   "version": "2.7.14"
  }
 },
 "nbformat": 4,
 "nbformat_minor": 2
}
